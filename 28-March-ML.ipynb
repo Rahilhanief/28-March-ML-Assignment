{
 "cells": [
  {
   "cell_type": "code",
   "execution_count": 1,
   "id": "76076eb2-be10-4712-8f75-070f95f5fa8c",
   "metadata": {},
   "outputs": [
    {
     "data": {
      "text/plain": [
       "'Ridge regression is a method of estimating the coefficients of multiple-regression models in \\nscenarios where the independent variables are highly correlated.\\nIt has been used in many fields including econometrics, chemistry, and engineering.\\nThe term “least squares” is used because it is the smallest sum of squares of errors, which is also called the \"variance.\"\\nIn regression analysis, dependent variables are illustrated on the vertical y-axis,\\nwhile independent variables are illustrated on the horizontal x-axis.'"
      ]
     },
     "execution_count": 1,
     "metadata": {},
     "output_type": "execute_result"
    }
   ],
   "source": [
    "## Q No. 1 :\n",
    "\"\"\"Ridge regression is a method of estimating the coefficients of multiple-regression models in \n",
    "scenarios where the independent variables are highly correlated.\n",
    "It has been used in many fields including econometrics, chemistry, and engineering.\n",
    "The term “least squares” is used because it is the smallest sum of squares of errors, which is also called the \"variance.\"\n",
    "In regression analysis, dependent variables are illustrated on the vertical y-axis,\n",
    "while independent variables are illustrated on the horizontal x-axis.\"\"\""
   ]
  },
  {
   "cell_type": "code",
   "execution_count": 2,
   "id": "405d50f0-2b01-4a85-b5a2-069640e040e2",
   "metadata": {},
   "outputs": [
    {
     "data": {
      "text/plain": [
       "'Assumptions of Ridge Regressions\\nThe assumptions of ridge regression are the same as that of linear regression: linearity, constant variance,\\nand independence. \\nHowever, as ridge regression does not provide confidence limits, the distribution of errors to be normal need \\nnot be assumed.'"
      ]
     },
     "execution_count": 2,
     "metadata": {},
     "output_type": "execute_result"
    }
   ],
   "source": [
    "## Q No. 2 :\n",
    "\"\"\"Assumptions of Ridge Regressions\n",
    "The assumptions of ridge regression are the same as that of linear regression: linearity, constant variance,\n",
    "and independence. \n",
    "However, as ridge regression does not provide confidence limits, the distribution of errors to be normal need \n",
    "not be assumed.\"\"\""
   ]
  },
  {
   "cell_type": "code",
   "execution_count": 3,
   "id": "4df06548-149e-4cf4-b272-25e505c7eff4",
   "metadata": {},
   "outputs": [
    {
     "data": {
      "text/plain": [
       "'Selecting a good value for λ is critical. When λ=0, the penalty term has no effect, and ridge regression\\nwill produce the classical least square coefficients. \\nHowever, as λ increases to infinite, the impact of the shrinkage penalty grows, and the ridge regression\\ncoefficients will get close zero.'"
      ]
     },
     "execution_count": 3,
     "metadata": {},
     "output_type": "execute_result"
    }
   ],
   "source": [
    "## Q No. 3 :\n",
    "\"\"\"Selecting a good value for λ is critical. When λ=0, the penalty term has no effect, and ridge regression\n",
    "will produce the classical least square coefficients. \n",
    "However, as λ increases to infinite, the impact of the shrinkage penalty grows, and the ridge regression\n",
    "coefficients will get close zero.\"\"\""
   ]
  },
  {
   "cell_type": "code",
   "execution_count": 4,
   "id": "b73eb368-a6db-43a0-a1dc-97efa2adaf16",
   "metadata": {},
   "outputs": [
    {
     "data": {
      "text/plain": [
       "'We can use ridge regression for feature selection while fitting the model. \\nwe are going to use logistic regression for model fitting and push the \\nparameter penalty as L2 which basically means the penalty we use in ridge regression.'"
      ]
     },
     "execution_count": 4,
     "metadata": {},
     "output_type": "execute_result"
    }
   ],
   "source": [
    "## Q No. 4 :\n",
    "'''We can use ridge regression for feature selection while fitting the model. \n",
    "we are going to use logistic regression for model fitting and push the \n",
    "parameter penalty as L2 which basically means the penalty we use in ridge regression.'''"
   ]
  },
  {
   "cell_type": "code",
   "execution_count": 5,
   "id": "77c9ca44-fc1d-43b2-a671-14e509065a06",
   "metadata": {},
   "outputs": [
    {
     "data": {
      "text/plain": [
       "'When multicollinearity occurs, least squares estimates are unbiased, but their variances are large\\nso they may be far from the true value.\\nBy adding a degree of bias to the regression estimates, ridge regression reduces the standard errors.'"
      ]
     },
     "execution_count": 5,
     "metadata": {},
     "output_type": "execute_result"
    }
   ],
   "source": [
    "## Q No. 5 :\n",
    "\"\"\"When multicollinearity occurs, least squares estimates are unbiased, but their variances are large\n",
    "so they may be far from the true value.\n",
    "By adding a degree of bias to the regression estimates, ridge regression reduces the standard errors.\"\"\""
   ]
  },
  {
   "cell_type": "code",
   "execution_count": 8,
   "id": "4413c853-0807-4143-b9a4-0c8b47b93f00",
   "metadata": {},
   "outputs": [
    {
     "data": {
      "text/plain": [
       "\"\\nRidge regression is used for regression purpose only as it needs the dependent variable to be continuous. \\nSo for your analysis Ridge regression can't be used. \\nSpecial characteristic of Ridge regression is it works fine in presence of multicollinearity but with \\na continuous dependent variable.\\n\""
      ]
     },
     "execution_count": 8,
     "metadata": {},
     "output_type": "execute_result"
    }
   ],
   "source": [
    "## Q No. 6 :\n",
    "\"\"\"\n",
    "Ridge regression is used for regression purpose only as it needs the dependent variable to be continuous. \n",
    "So for your analysis Ridge regression can't be used. \n",
    "Special characteristic of Ridge regression is it works fine in presence of multicollinearity but with \n",
    "a continuous dependent variable.\n",
    "\"\"\""
   ]
  },
  {
   "cell_type": "code",
   "execution_count": 7,
   "id": "17f7a019-a9ac-4248-81f2-6551d5ef2dee",
   "metadata": {},
   "outputs": [
    {
     "data": {
      "text/plain": [
       "'Mathematically, it can be written as: The value of R-square is always between 0 and 1, \\nwhere 0 means that the model does not model explain any variability in the target variable (Y) \\nand 1 meaning it explains full variability in the target variable.'"
      ]
     },
     "execution_count": 7,
     "metadata": {},
     "output_type": "execute_result"
    }
   ],
   "source": [
    "## Q No. 7 :\n",
    "\"\"\"Mathematically, it can be written as: The value of R-square is always between 0 and 1, \n",
    "where 0 means that the model does not explain any variability in the target variable (Y) \n",
    "and 1 meaning it explains full variability in the target variable.\"\"\""
   ]
  },
  {
   "cell_type": "code",
   "execution_count": 10,
   "id": "fb37bb01-45f8-43db-a32c-310a8985c7e0",
   "metadata": {},
   "outputs": [
    {
     "data": {
      "text/plain": [
       "'The ridge regression technique can be used to predict time-series.\\nRidge regression (RR) can also solve the multicollinearity problem that exists in linear regression.'"
      ]
     },
     "execution_count": 10,
     "metadata": {},
     "output_type": "execute_result"
    }
   ],
   "source": [
    "## Q No. 8 :\n",
    "'''The ridge regression technique can be used to predict time-series.\n",
    "Ridge regression (RR) can also solve the multicollinearity problem that exists in linear regression.'''"
   ]
  }
 ],
 "metadata": {
  "kernelspec": {
   "display_name": "Python 3 (ipykernel)",
   "language": "python",
   "name": "python3"
  },
  "language_info": {
   "codemirror_mode": {
    "name": "ipython",
    "version": 3
   },
   "file_extension": ".py",
   "mimetype": "text/x-python",
   "name": "python",
   "nbconvert_exporter": "python",
   "pygments_lexer": "ipython3",
   "version": "3.10.8"
  }
 },
 "nbformat": 4,
 "nbformat_minor": 5
}
